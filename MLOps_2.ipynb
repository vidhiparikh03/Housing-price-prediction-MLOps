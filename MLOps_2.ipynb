{
  "nbformat": 4,
  "nbformat_minor": 0,
  "metadata": {
    "colab": {
      "provenance": []
    },
    "kernelspec": {
      "name": "python3",
      "display_name": "Python 3"
    },
    "language_info": {
      "name": "python"
    }
  },
  "cells": [
    {
      "cell_type": "markdown",
      "source": [
        "# **PRACTICAL-2**\n",
        "\n",
        "\n"
      ],
      "metadata": {
        "id": "8N7kqVxmG-zV"
      }
    },
    {
      "cell_type": "markdown",
      "source": [
        "##The aim of the practial is to get the hands-on experience of reproducing the machine learning operations at each stage."
      ],
      "metadata": {
        "id": "OeNGplCaBRtN"
      }
    },
    {
      "cell_type": "markdown",
      "source": [
        "1. Import libraries and make a note of the versions of these libraries"
      ],
      "metadata": {
        "id": "yDCeffxoBblc"
      }
    },
    {
      "cell_type": "code",
      "execution_count": 8,
      "metadata": {
        "colab": {
          "base_uri": "https://localhost:8080/",
          "height": 35
        },
        "id": "6Nmd-LFCBKHV",
        "outputId": "4fcd8bed-faff-4718-b86a-01fd021235c8"
      },
      "outputs": [
        {
          "output_type": "execute_result",
          "data": {
            "text/plain": [
              "'1.22.4'"
            ],
            "application/vnd.google.colaboratory.intrinsic+json": {
              "type": "string"
            }
          },
          "metadata": {},
          "execution_count": 8
        }
      ],
      "source": [
        "import numpy as np\n",
        "np.__version__"
      ]
    },
    {
      "cell_type": "code",
      "source": [
        "import sklearn\n",
        "sklearn.__version__"
      ],
      "metadata": {
        "colab": {
          "base_uri": "https://localhost:8080/",
          "height": 35
        },
        "id": "pb35U4cDCj2N",
        "outputId": "79593e0d-0b24-4d14-f74b-f3f159f8124f"
      },
      "execution_count": 9,
      "outputs": [
        {
          "output_type": "execute_result",
          "data": {
            "text/plain": [
              "'1.2.2'"
            ],
            "application/vnd.google.colaboratory.intrinsic+json": {
              "type": "string"
            }
          },
          "metadata": {},
          "execution_count": 9
        }
      ]
    },
    {
      "cell_type": "code",
      "source": [
        "import matplotlib as plt\n",
        "plt.__version__"
      ],
      "metadata": {
        "colab": {
          "base_uri": "https://localhost:8080/",
          "height": 35
        },
        "id": "eXYl-6ICFPWA",
        "outputId": "ee75b659-55ec-4601-cec9-e6a6dd88e261"
      },
      "execution_count": 10,
      "outputs": [
        {
          "output_type": "execute_result",
          "data": {
            "text/plain": [
              "'3.7.1'"
            ],
            "application/vnd.google.colaboratory.intrinsic+json": {
              "type": "string"
            }
          },
          "metadata": {},
          "execution_count": 10
        }
      ]
    },
    {
      "cell_type": "code",
      "source": [
        "import pandas as pd"
      ],
      "metadata": {
        "id": "AoKPOEzzAnfg"
      },
      "execution_count": 11,
      "outputs": []
    },
    {
      "cell_type": "markdown",
      "source": [
        "2. Write a python code to import the Sample.txt data. Further, apply the following processes on the\n",
        "imported data"
      ],
      "metadata": {
        "id": "g46OlqIHHluO"
      }
    },
    {
      "cell_type": "code",
      "source": [
        "data = pd.read_csv(\"/content/Housing.csv\")\n",
        "print(data)"
      ],
      "metadata": {
        "colab": {
          "base_uri": "https://localhost:8080/"
        },
        "id": "COTmpSpOHk42",
        "outputId": "34478b26-1b99-4e0f-987d-23bf1dc43ead"
      },
      "execution_count": 63,
      "outputs": [
        {
          "output_type": "stream",
          "name": "stdout",
          "text": [
            "        price  area  bedrooms  bathrooms  stories mainroad guestroom basement  \\\n",
            "0    13300000  7420         4          2        3      yes        no       no   \n",
            "1    12250000  8960         4          4        4      yes        no       no   \n",
            "2    12250000  9960         3          2        2      yes        no      yes   \n",
            "3    12215000  7500         4          2        2      yes        no      yes   \n",
            "4    11410000  7420         4          1        2      yes       yes      yes   \n",
            "..        ...   ...       ...        ...      ...      ...       ...      ...   \n",
            "540   1820000  3000         2          1        1      yes        no      yes   \n",
            "541   1767150  2400         3          1        1       no        no       no   \n",
            "542   1750000  3620         2          1        1      yes        no       no   \n",
            "543   1750000  2910         3          1        1       no        no       no   \n",
            "544   1750000  3850         3          1        2      yes        no       no   \n",
            "\n",
            "    hotwaterheating airconditioning  parking prefarea furnishingstatus  \n",
            "0                no             yes        2      yes        furnished  \n",
            "1                no             yes        3       no        furnished  \n",
            "2                no              no        2      yes   semi-furnished  \n",
            "3                no             yes        3      yes        furnished  \n",
            "4                no             yes        2       no        furnished  \n",
            "..              ...             ...      ...      ...              ...  \n",
            "540              no              no        2       no      unfurnished  \n",
            "541              no              no        0       no   semi-furnished  \n",
            "542              no              no        0       no      unfurnished  \n",
            "543              no              no        0       no        furnished  \n",
            "544              no              no        0       no      unfurnished  \n",
            "\n",
            "[545 rows x 13 columns]\n"
          ]
        }
      ]
    },
    {
      "cell_type": "markdown",
      "source": [
        "a) Scale the dataset. Use the StandardScalar function of scikit learn to normalize the dataset.\n",
        "Unsure reproduciblity: Store the standard scalar object into your local file system, so that\n",
        "the same data normalization can be applied to the other data during the deployement."
      ],
      "metadata": {
        "id": "hzJDy5eAJEjg"
      }
    },
    {
      "cell_type": "markdown",
      "source": [
        "### Splitting and scaling"
      ],
      "metadata": {
        "id": "mNSGV-r_B3Ea"
      }
    },
    {
      "cell_type": "code",
      "source": [
        "x = data['area']\n",
        "y = data['price']"
      ],
      "metadata": {
        "id": "zBVvtp9pCWXB"
      },
      "execution_count": 65,
      "outputs": []
    },
    {
      "cell_type": "code",
      "source": [
        "x.shape,y.shape"
      ],
      "metadata": {
        "colab": {
          "base_uri": "https://localhost:8080/"
        },
        "id": "NsqCM6toCow6",
        "outputId": "3b4cb2b5-83a0-4241-9c6e-d18dadc0d455"
      },
      "execution_count": 66,
      "outputs": [
        {
          "output_type": "execute_result",
          "data": {
            "text/plain": [
              "((545,), (545,))"
            ]
          },
          "metadata": {},
          "execution_count": 66
        }
      ]
    },
    {
      "cell_type": "code",
      "source": [
        "x,y"
      ],
      "metadata": {
        "colab": {
          "base_uri": "https://localhost:8080/"
        },
        "id": "_heyBPrPCvqh",
        "outputId": "f47b5c40-1ddb-4809-b66b-3b9ab0ba9be5"
      },
      "execution_count": 67,
      "outputs": [
        {
          "output_type": "execute_result",
          "data": {
            "text/plain": [
              "(0      7420\n",
              " 1      8960\n",
              " 2      9960\n",
              " 3      7500\n",
              " 4      7420\n",
              "        ... \n",
              " 540    3000\n",
              " 541    2400\n",
              " 542    3620\n",
              " 543    2910\n",
              " 544    3850\n",
              " Name: area, Length: 545, dtype: int64,\n",
              " 0      13300000\n",
              " 1      12250000\n",
              " 2      12250000\n",
              " 3      12215000\n",
              " 4      11410000\n",
              "          ...   \n",
              " 540     1820000\n",
              " 541     1767150\n",
              " 542     1750000\n",
              " 543     1750000\n",
              " 544     1750000\n",
              " Name: price, Length: 545, dtype: int64)"
            ]
          },
          "metadata": {},
          "execution_count": 67
        }
      ]
    },
    {
      "cell_type": "code",
      "source": [
        "from sklearn.model_selection import train_test_split"
      ],
      "metadata": {
        "id": "-Vx0ZLuPCEeL"
      },
      "execution_count": 68,
      "outputs": []
    },
    {
      "cell_type": "code",
      "source": [
        "randomstate = 42"
      ],
      "metadata": {
        "id": "lW3OGt90Dc4i"
      },
      "execution_count": 69,
      "outputs": []
    },
    {
      "cell_type": "code",
      "source": [
        "x_train,x_test, y_train,y_test = train_test_split(x,y,test_size=0.2, random_state = randomstate)"
      ],
      "metadata": {
        "id": "UdCp21y1C6Li"
      },
      "execution_count": 70,
      "outputs": []
    },
    {
      "cell_type": "markdown",
      "source": [
        "## Mount"
      ],
      "metadata": {
        "id": "lrpJE_sJI0QR"
      }
    },
    {
      "cell_type": "code",
      "source": [
        "from google.colab import drive\n",
        "drive.mount('/content/drive')"
      ],
      "metadata": {
        "colab": {
          "base_uri": "https://localhost:8080/"
        },
        "id": "3IZS2banJaf8",
        "outputId": "95b83859-6384-4bdc-f267-550e537b84c3"
      },
      "execution_count": 71,
      "outputs": [
        {
          "output_type": "stream",
          "name": "stdout",
          "text": [
            "Drive already mounted at /content/drive; to attempt to forcibly remount, call drive.mount(\"/content/drive\", force_remount=True).\n"
          ]
        }
      ]
    },
    {
      "cell_type": "code",
      "source": [
        "drivefolder = \"/content/drive/MyDrive/SEM-7/MLOps\"\n",
        "import os"
      ],
      "metadata": {
        "id": "F3_4CAohJpdi"
      },
      "execution_count": 73,
      "outputs": []
    },
    {
      "cell_type": "code",
      "source": [
        "os.path.join(drivefolder,\"x_train.npy\")"
      ],
      "metadata": {
        "colab": {
          "base_uri": "https://localhost:8080/",
          "height": 35
        },
        "id": "lGBFh_heJtGY",
        "outputId": "1873eab0-c3ef-4955-8c45-e7a28b46a2c1"
      },
      "execution_count": 74,
      "outputs": [
        {
          "output_type": "execute_result",
          "data": {
            "text/plain": [
              "'/content/drive/MyDrive/SEM-7/MLOps/x_train.npy'"
            ],
            "application/vnd.google.colaboratory.intrinsic+json": {
              "type": "string"
            }
          },
          "metadata": {},
          "execution_count": 74
        }
      ]
    },
    {
      "cell_type": "code",
      "source": [
        "np.save(os.path.join(drivefolder,\"x_train.npy\"),x_train)\n",
        "np.save(os.path.join(drivefolder,\"x_test.npy\"),x_test)\n",
        "np.save(os.path.join(drivefolder,\"y_train.npy\"),y_train)\n",
        "np.save(os.path.join(drivefolder,\"y_test.npy\"),y_test)"
      ],
      "metadata": {
        "id": "W71w66zIGI0U"
      },
      "execution_count": 75,
      "outputs": []
    },
    {
      "cell_type": "markdown",
      "source": [
        "### Normalization"
      ],
      "metadata": {
        "id": "hrrnQ0-8Go1M"
      }
    },
    {
      "cell_type": "code",
      "source": [
        "from sklearn.preprocessing import StandardScaler"
      ],
      "metadata": {
        "id": "n2yldV0hJG6G"
      },
      "execution_count": 76,
      "outputs": []
    },
    {
      "cell_type": "code",
      "source": [
        "#converting pd series to numpy array\n",
        "x_train_reshape = np.asarray(x_train).reshape(-1,1)\n",
        "x_test_reshape = np.asarray(x_test).reshape(-1,1)"
      ],
      "metadata": {
        "id": "U200iJ1IFT-8"
      },
      "execution_count": 77,
      "outputs": []
    },
    {
      "cell_type": "code",
      "source": [
        "scaler = StandardScaler()\n",
        "scaler.fit(x_train_reshape)\n",
        "x_train_normalized = scaler.transform(x_train_reshape)\n",
        "x_test_normalized = scaler.transform(x_test_reshape)"
      ],
      "metadata": {
        "id": "MAS3rKFaGyFV"
      },
      "execution_count": 78,
      "outputs": []
    },
    {
      "cell_type": "markdown",
      "source": [
        "1. Open a new python file\n",
        "2. Load the 'scaler.pkl'\n",
        "3. Take 'x_test.npy' as input\n",
        "4. Apply the 'scaler.transform' and comapre 'x_test_normalized' of new file with this file"
      ],
      "metadata": {
        "id": "9-qNWmE9NnXq"
      }
    },
    {
      "cell_type": "code",
      "source": [
        "#store the scaler object\n",
        "import pickle\n",
        "with open(os.path.join(drivefolder,\"scaler.pkl\"),'wb') as f:\n",
        "  pickle.dump(scaler,f)"
      ],
      "metadata": {
        "id": "8OsfcS_sJ8NX"
      },
      "execution_count": 79,
      "outputs": []
    },
    {
      "cell_type": "markdown",
      "source": [
        "##Save the model"
      ],
      "metadata": {
        "id": "9UH0L3tsK8WK"
      }
    },
    {
      "cell_type": "code",
      "source": [
        "x_train_normalized = scaler.transform(x_train_reshape)\n",
        "x_train_normalized"
      ],
      "metadata": {
        "id": "JzZXTKSbK9LR"
      },
      "execution_count": null,
      "outputs": []
    },
    {
      "cell_type": "code",
      "source": [
        "x_test_normalized = scaler.transform(x_test_reshape)\n",
        "x_test_normalized"
      ],
      "metadata": {
        "id": "x10RtZgwLAxL"
      },
      "execution_count": null,
      "outputs": []
    },
    {
      "cell_type": "code",
      "source": [
        "np.save(os.path.join(drivefolder,\"x_test_normalized\"),x_test_normalized)\n",
        "np.save(os.path.join(drivefolder,\"x_train_normalized\"),x_train_normalized)"
      ],
      "metadata": {
        "id": "PRfBv0HeL_pD"
      },
      "execution_count": 82,
      "outputs": []
    },
    {
      "cell_type": "code",
      "source": [
        "np.mean(x_train_normalized)"
      ],
      "metadata": {
        "colab": {
          "base_uri": "https://localhost:8080/"
        },
        "id": "zRZw7hIbHy6V",
        "outputId": "6f5ae68f-fed0-46a1-c19d-94de37761fcd"
      },
      "execution_count": 83,
      "outputs": [
        {
          "output_type": "execute_result",
          "data": {
            "text/plain": [
              "1.2222638803212733e-16"
            ]
          },
          "metadata": {},
          "execution_count": 83
        }
      ]
    },
    {
      "cell_type": "code",
      "source": [
        "np.mean(x_test_normalized)"
      ],
      "metadata": {
        "colab": {
          "base_uri": "https://localhost:8080/"
        },
        "id": "k9c2K_QfMGQn",
        "outputId": "d0145fbf-3cb1-47c4-b438-7e52de451ff7"
      },
      "execution_count": 84,
      "outputs": [
        {
          "output_type": "execute_result",
          "data": {
            "text/plain": [
              "-0.008182479453515227"
            ]
          },
          "metadata": {},
          "execution_count": 84
        }
      ]
    },
    {
      "cell_type": "code",
      "source": [
        "np.std(x_train_normalized)"
      ],
      "metadata": {
        "colab": {
          "base_uri": "https://localhost:8080/"
        },
        "id": "ZV1HvSGjH2eV",
        "outputId": "32a47255-79a3-48c8-e656-40e2dee8d717"
      },
      "execution_count": 85,
      "outputs": [
        {
          "output_type": "execute_result",
          "data": {
            "text/plain": [
              "1.0000000000000002"
            ]
          },
          "metadata": {},
          "execution_count": 85
        }
      ]
    },
    {
      "cell_type": "code",
      "source": [
        "np.std(x_test_normalized)"
      ],
      "metadata": {
        "id": "7tYUe78DH9e3",
        "colab": {
          "base_uri": "https://localhost:8080/"
        },
        "outputId": "e747f6a6-65bd-4e5b-a957-810ed87a6dd2"
      },
      "execution_count": 86,
      "outputs": [
        {
          "output_type": "execute_result",
          "data": {
            "text/plain": [
              "0.9210591725069316"
            ]
          },
          "metadata": {},
          "execution_count": 86
        }
      ]
    },
    {
      "cell_type": "markdown",
      "source": [
        "#Modelling\n",
        "##Training"
      ],
      "metadata": {
        "id": "MHSX9mo2MNP3"
      }
    },
    {
      "cell_type": "code",
      "source": [
        "from sklearn.linear_model import LinearRegression"
      ],
      "metadata": {
        "id": "XQSZFDK6MQLi"
      },
      "execution_count": 87,
      "outputs": []
    },
    {
      "cell_type": "code",
      "source": [
        "reg = LinearRegression()\n",
        "reg.fit(x_train_normalized, y_train)\n",
        "Score = reg.score(x_train_normalized, y_train)\n",
        "CoEfficient = reg.coef_\n",
        "Intercept = reg.intercept_"
      ],
      "metadata": {
        "id": "PYyqUtN7MSkC"
      },
      "execution_count": 88,
      "outputs": []
    },
    {
      "cell_type": "markdown",
      "source": [
        "##Testing"
      ],
      "metadata": {
        "id": "3IJOnxCyMW8i"
      }
    },
    {
      "cell_type": "code",
      "source": [
        "Predictions = reg.predict(x_test_normalized)"
      ],
      "metadata": {
        "id": "jy6ysByYMUU6"
      },
      "execution_count": 89,
      "outputs": []
    },
    {
      "cell_type": "code",
      "source": [
        "np.save(os.path.join(drivefolder,\"Predictions\"),Predictions)\n"
      ],
      "metadata": {
        "id": "uNM_30CtMaFC"
      },
      "execution_count": 90,
      "outputs": []
    },
    {
      "cell_type": "markdown",
      "source": [
        "## Evaluation and plots"
      ],
      "metadata": {
        "id": "L0kyiEU7MeFC"
      }
    },
    {
      "cell_type": "code",
      "source": [
        "from sklearn.metrics import mean_absolute_error,mean_squared_error"
      ],
      "metadata": {
        "id": "qOhM7VQmMb0C"
      },
      "execution_count": 91,
      "outputs": []
    },
    {
      "cell_type": "code",
      "source": [
        "mae = mean_absolute_error(y_test, Predictions)\n",
        "\n",
        "#squared True returns MSE value, False returns RMSE value.\n",
        "mse = mean_squared_error(y_test, Predictions) #default=True\n",
        "rmse = mean_squared_error(y_test, Predictions,squared=False)\n",
        "print(\"MAE:\",mae)\n",
        "print(\"MSE:\",mse)\n",
        "print(\"RMSE:\",rmse)"
      ],
      "metadata": {
        "colab": {
          "base_uri": "https://localhost:8080/"
        },
        "id": "KCgWkPaeMgdy",
        "outputId": "79875cc9-96bf-4f31-f5b3-241bab4f6586"
      },
      "execution_count": 92,
      "outputs": [
        {
          "output_type": "stream",
          "name": "stdout",
          "text": [
            "MAE: 1474748.1337969352\n",
            "MSE: 3675286604768.1855\n",
            "RMSE: 1917103.7021424235\n"
          ]
        }
      ]
    },
    {
      "cell_type": "code",
      "source": [
        "import matplotlib.pyplot as plt\n",
        "plt.scatter(x_test, y_test, color ='b')\n",
        "plt.plot(x_test, Predictions, color ='k')\n",
        "plt.show()"
      ],
      "metadata": {
        "colab": {
          "base_uri": "https://localhost:8080/",
          "height": 445
        },
        "id": "8kUxO3AOMmSC",
        "outputId": "41ddd018-7060-45e4-89e3-38fa5a4ac928"
      },
      "execution_count": 93,
      "outputs": [
        {
          "output_type": "display_data",
          "data": {
            "text/plain": [
              "<Figure size 640x480 with 1 Axes>"
            ],
            "image/png": "[encoded data removed]"
          },
          "metadata": {}
        }
      ]
    },
    {
      "cell_type": "code",
      "source": [],
      "metadata": {
        "id": "HR3TB3cHMo1i"
      },
      "execution_count": null,
      "outputs": []
    }
  ]
}