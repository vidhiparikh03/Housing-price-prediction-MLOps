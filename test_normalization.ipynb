{
  "nbformat": 4,
  "nbformat_minor": 0,
  "metadata": {
    "colab": {
      "provenance": []
    },
    "kernelspec": {
      "name": "python3",
      "display_name": "Python 3"
    },
    "language_info": {
      "name": "python"
    }
  },
  "cells": [
    {
      "cell_type": "markdown",
      "source": [
        "## Test_NormalizationSteps"
      ],
      "metadata": {
        "id": "HcqUCABeT78d"
      }
    },
    {
      "cell_type": "markdown",
      "source": [
        "1. Open a new python file\n",
        "2. Load the 'scaler.pkl'\n",
        "3. Take 'x_test.npy' as input\n",
        "4. Apply the 'scaler.transform' and comapre 'x_test_normalized' of new file with this file"
      ],
      "metadata": {
        "id": "al0ZgAqWLg3Q"
      }
    },
    {
      "cell_type": "code",
      "source": [
        "from sklearn.model_selection import train_test_split\n",
        "from sklearn.preprocessing import StandardScaler\n",
        "import pickle\n",
        "import numpy as np\n"
      ],
      "metadata": {
        "id": "e4siEUO_S-2E"
      },
      "execution_count": 21,
      "outputs": []
    },
    {
      "cell_type": "code",
      "execution_count": 22,
      "metadata": {
        "id": "FFby4p_rLbpm"
      },
      "outputs": [],
      "source": [
        "with open('/content/drive/MyDrive/SEM-7/MLOps/scaler.pkl','rb') as f:\n",
        "  scaler = pickle.load(f)"
      ]
    },
    {
      "cell_type": "code",
      "source": [
        "x_test = np.load('/content/drive/MyDrive/SEM-7/MLOps/x_test.npy', allow_pickle=True)"
      ],
      "metadata": {
        "id": "CuB10YZ3MB9f"
      },
      "execution_count": 23,
      "outputs": []
    },
    {
      "cell_type": "code",
      "source": [
        "x_train_normalized_Main = np.load('/content/drive/MyDrive/SEM-7/MLOps/x_train_normalized.npy', allow_pickle=True)\n",
        "x_test_normalized_Main = np.load('/content/drive/MyDrive/SEM-7/MLOps/x_test_normalized.npy' ,allow_pickle=True)"
      ],
      "metadata": {
        "id": "FJ5wl1TYNTEC"
      },
      "execution_count": 24,
      "outputs": []
    },
    {
      "cell_type": "code",
      "source": [
        "'''Converting pd series to numpy array'''\n",
        "x_test = np.asarray(x_test).reshape(-1,1)"
      ],
      "metadata": {
        "id": "A6DxIZBPTFQV"
      },
      "execution_count": 25,
      "outputs": []
    },
    {
      "cell_type": "code",
      "source": [
        "x_test_Normalized = scaler.transform(x_test)"
      ],
      "metadata": {
        "id": "YUr91jX1TzA9"
      },
      "execution_count": 26,
      "outputs": []
    },
    {
      "cell_type": "code",
      "source": [
        "x_test_Normalized\n"
      ],
      "metadata": {
        "id": "SCXlZ8dyMja5"
      },
      "execution_count": null,
      "outputs": []
    },
    {
      "cell_type": "code",
      "source": [
        "np.mean(x_test_Normalized)"
      ],
      "metadata": {
        "colab": {
          "base_uri": "https://localhost:8080/"
        },
        "id": "Yb6IdHP7NmhS",
        "outputId": "a032d46c-deb2-448d-849f-6ddc951c036c"
      },
      "execution_count": 11,
      "outputs": [
        {
          "output_type": "execute_result",
          "data": {
            "text/plain": [
              "0.028014779930466617"
            ]
          },
          "metadata": {},
          "execution_count": 11
        }
      ]
    },
    {
      "cell_type": "code",
      "source": [
        "np.std(x_test_Normalized)"
      ],
      "metadata": {
        "colab": {
          "base_uri": "https://localhost:8080/"
        },
        "id": "j1j-_ZpYNo7y",
        "outputId": "a28b62a3-2530-42e0-a676-75a1ea1d11c7"
      },
      "execution_count": 12,
      "outputs": [
        {
          "output_type": "execute_result",
          "data": {
            "text/plain": [
              "1.2243260820210444"
            ]
          },
          "metadata": {},
          "execution_count": 12
        }
      ]
    },
    {
      "cell_type": "code",
      "source": [
        "x_test"
      ],
      "metadata": {
        "id": "zx8uZBSlNvRy"
      },
      "execution_count": null,
      "outputs": []
    },
    {
      "cell_type": "code",
      "source": [
        "x_test_normalized_Main == x_test_Normalized"
      ],
      "metadata": {
        "id": "NLH_3dIVNyTq"
      },
      "execution_count": null,
      "outputs": []
    },
    {
      "cell_type": "code",
      "source": [
        "predictions = np.load('/content/drive/MyDrive/SEM-7/MLOps/Predictions.npy', allow_pickle=True)"
      ],
      "metadata": {
        "id": "jZgDMQheN5hZ"
      },
      "execution_count": 30,
      "outputs": []
    },
    {
      "cell_type": "code",
      "source": [
        "from sklearn.metrics import mean_absolute_error,mean_squared_error"
      ],
      "metadata": {
        "id": "dscQwE5jOF9e"
      },
      "execution_count": 31,
      "outputs": []
    },
    {
      "cell_type": "code",
      "source": [
        "y_test = np.load('/content/drive/MyDrive/SEM-7/MLOps/y_test.npy', allow_pickle=True)"
      ],
      "metadata": {
        "id": "YcUWuu8pOK-W"
      },
      "execution_count": 32,
      "outputs": []
    },
    {
      "cell_type": "code",
      "source": [
        "mae = mean_absolute_error(y_test, predictions)\n",
        "\n",
        "#squared True returns MSE value, False returns RMSE value.\n",
        "mse = mean_squared_error(y_test, predictions) #default=True\n",
        "rmse = mean_squared_error(y_test, predictions,squared=False)\n",
        "print(\"MAE:\",mae)\n",
        "print(\"MSE:\",mse)\n",
        "print(\"RMSE:\",rmse)"
      ],
      "metadata": {
        "colab": {
          "base_uri": "https://localhost:8080/"
        },
        "id": "VjSYEgugOOuO",
        "outputId": "4658af2b-22b7-4f31-a881-02be5f276955"
      },
      "execution_count": 33,
      "outputs": [
        {
          "output_type": "stream",
          "name": "stdout",
          "text": [
            "MAE: 1474748.1337969352\n",
            "MSE: 3675286604768.1855\n",
            "RMSE: 1917103.7021424235\n"
          ]
        }
      ]
    }
  ]
}